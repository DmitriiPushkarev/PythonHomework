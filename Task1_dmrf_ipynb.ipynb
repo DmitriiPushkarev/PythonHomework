{
  "cells": [
    {
      "cell_type": "markdown",
      "metadata": {
        "id": "view-in-github",
        "colab_type": "text"
      },
      "source": [
        "<a href=\"https://colab.research.google.com/github/DmitriiPushkarev/PythonHomework/blob/main/Task1_dmrf_ipynb.ipynb\" target=\"_parent\"><img src=\"https://colab.research.google.com/assets/colab-badge.svg\" alt=\"Open In Colab\"/></a>"
      ]
    },
    {
      "cell_type": "markdown",
      "metadata": {
        "pycharm": {
          "name": "#%% md\n"
        },
        "id": "rfVHpY-2jqbf"
      },
      "source": [
        "[![Open In Colab](https://colab.research.google.com/assets/colab-badge.svg)](https://colab.research.google.com/github/lectures-python/Python_lectures_HW/blob/main/HW/Task1_dmrf.ipynb)"
      ]
    },
    {
      "cell_type": "markdown",
      "metadata": {
        "pycharm": {
          "name": "#%% md\n"
        },
        "id": "mBz06uyujqbi"
      },
      "source": [
        "# Задание\n",
        "* Собрать информацию о всех строящихся объектах на сайте \"наш.дом.рф\"\n",
        "* Cохранить ее в pandas dataframe\n",
        "* Cохранить pandas dataframe в excel\n",
        "* Cохранить pandas dataframe в pickle\n",
        "* Cохранить pandas dataframe в БД\n",
        "\n",
        "# Задание *\n",
        "* Написать скрипт, который скачивает фотографии всех строящихся объектов с сайта \"наш.дом.рф\"\n"
      ]
    },
    {
      "cell_type": "code",
      "execution_count": 1,
      "metadata": {
        "pycharm": {
          "name": "#%%\n"
        },
        "id": "-Ety45Bmjqbj"
      },
      "outputs": [],
      "source": [
        "import requests"
      ]
    },
    {
      "cell_type": "markdown",
      "metadata": {
        "pycharm": {
          "name": "#%% md\n"
        },
        "id": "leh_R4sGjqbk"
      },
      "source": [
        "## Список объектов"
      ]
    },
    {
      "cell_type": "code",
      "execution_count": 2,
      "metadata": {
        "pycharm": {
          "name": "#%%\n"
        },
        "id": "zqVwwmOOjqbl",
        "outputId": "bd3c4aa0-fdb5-495e-cd9b-355a0359742a",
        "colab": {
          "base_uri": "https://localhost:8080/"
        }
      },
      "outputs": [
        {
          "output_type": "execute_result",
          "data": {
            "text/plain": [
              "{'objId': 13383,\n",
              " 'developer': {'devId': 306,\n",
              "  'shortName': '2МЕН ГРУПП',\n",
              "  'fullName': '2МЕН ГРУПП',\n",
              "  'groupName': '2МЕН ГРУПП ДЕВЕЛОПМЕНТ',\n",
              "  'orgForm': {'id': 1, 'fullForm': 'Акционерное общество', 'shortForm': 'АО'},\n",
              "  'companyGroup': 5776,\n",
              "  'devInn': '7701651356'},\n",
              " 'rpdRegionCd': 72,\n",
              " 'objAddr': 'г Тюмень',\n",
              " 'objFloorMin': 4,\n",
              " 'objFloorMax': 20,\n",
              " 'objElemLivingCnt': 68,\n",
              " 'objReady100PercDt': '2022-12-31',\n",
              " 'objSquareLiving': 6293.78,\n",
              " 'objCompensFundFlg': 1,\n",
              " 'objProblemFlg': 0,\n",
              " 'latitude': 57.1519,\n",
              " 'longitude': 65.5536,\n",
              " 'problemFlag': 'NONE',\n",
              " 'siteStatus': 'Строящиеся',\n",
              " 'objGuarantyEscrowFlg': 0,\n",
              " 'residentialBuildings': 1,\n",
              " 'rpdNum': '72-000095',\n",
              " 'pdId': 28105,\n",
              " 'buildType': 'Жилое',\n",
              " 'objStatus': 0}"
            ]
          },
          "metadata": {},
          "execution_count": 2
        }
      ],
      "source": [
        "# Для скачивания данных по\n",
        "\n",
        "offset_ = 1\n",
        "limit_ = 100\n",
        "url = f'https://xn--80az8a.xn--d1aqf.xn--p1ai/%D1%81%D0%B5%D1%80%D0%B2%D0%B8%D1%81%D1%8B/api/kn/object?offset={offset_}&limit={limit_}&sortField=devId.devShortCleanNm&sortType=asc&objStatus=0'\n",
        "res = requests.get(url)\n",
        "objects_data = res.json()\n",
        "objects_data.get('data').get('list')[0]"
      ]
    },
    {
      "cell_type": "code",
      "execution_count": 3,
      "metadata": {
        "pycharm": {
          "name": "#%%\n"
        },
        "id": "uNscS5uvjqbl",
        "colab": {
          "base_uri": "https://localhost:8080/"
        },
        "outputId": "fca9f21f-80df-4557-c3cf-20bb6500979c"
      },
      "outputs": [
        {
          "output_type": "execute_result",
          "data": {
            "text/plain": [
              "[13383, 13397, 13391, 13398, 13399, 36912, 44076, 27476, 10891, 39175]"
            ]
          },
          "metadata": {},
          "execution_count": 3
        }
      ],
      "source": [
        "objects_list = objects_data.get('data').get('list')\n",
        "objids = [x.get('objId') for x in objects_list]\n",
        "objids[:10]"
      ]
    },
    {
      "cell_type": "markdown",
      "metadata": {
        "pycharm": {
          "name": "#%% md\n"
        },
        "id": "-Ya8BhNTjqbm"
      },
      "source": [
        "# Данные по определенному объекту"
      ]
    },
    {
      "cell_type": "code",
      "execution_count": 4,
      "metadata": {
        "pycharm": {
          "name": "#%%\n"
        },
        "id": "zcZB_0Nwjqbn"
      },
      "outputs": [],
      "source": [
        "# Для скачивания данных по определенному объекту, нужно добавить его id в конец строки запроса\n",
        "url = f'https://xn--80az8a.xn--d1aqf.xn--p1ai/%D1%81%D0%B5%D1%80%D0%B2%D0%B8%D1%81%D1%8B/api/object/29679'"
      ]
    },
    {
      "cell_type": "code",
      "execution_count": 5,
      "metadata": {
        "pycharm": {
          "name": "#%%\n"
        },
        "id": "4X_uTT4Vjqbn",
        "outputId": "680634fd-fa3c-4533-efae-68917fa5ddb9",
        "colab": {
          "base_uri": "https://localhost:8080/"
        }
      },
      "outputs": [
        {
          "output_type": "execute_result",
          "data": {
            "text/plain": [
              "{'data': {'id': 29679,\n",
              "  'pdId': 124647,\n",
              "  'developer': {'devId': 7424,\n",
              "   'devShortCleanNm': '212-2',\n",
              "   'devShortNm': '212-2',\n",
              "   'devFullCleanNm': '212-2',\n",
              "   'problObjCnt': 0,\n",
              "   'buildObjCnt': 1,\n",
              "   'comissObjCnt': 0,\n",
              "   'regRegionDesc': 'Ростовская область',\n",
              "   'devPhoneNum': '+7(961)285-90-10',\n",
              "   'devSite': 'taganrogjsk.wixsite.com',\n",
              "   'devEmail': 'kirpol76@gmail.com',\n",
              "   'devInn': '6154572922',\n",
              "   'devOgrn': '1116154005923',\n",
              "   'devKpp': '615401001',\n",
              "   'devLegalAddr': 'Ростовская область, город Таганрог, улица Свободы/Трудовых резервов дом 25/9',\n",
              "   'devFactAddr': 'обл Ростовская город Таганрог улица Сергея Шило д. 212-2',\n",
              "   'lastRpdId': 126093,\n",
              "   'fundGuarantyFlg': 0,\n",
              "   'devOrgRegRegionCd': 61,\n",
              "   'devEmplMainFullNm': 'Снимщикова Ольга Викторовна',\n",
              "   'orgForm': {'id': 20,\n",
              "    'fullForm': 'Жилищный или жилищно-строительный кооператив',\n",
              "    'shortForm': 'ЖСК'},\n",
              "   'objGuarantyEscrowFlg': 0,\n",
              "   'govFundFlg': 0},\n",
              "  'region': 61,\n",
              "  'address': 'г Таганрог',\n",
              "  'objElemLivingCnt': 18,\n",
              "  'objReady100PercDt': '2020-03-31',\n",
              "  'wallMaterialShortDesc': 'Другое',\n",
              "  'objLkFinishTypeDesc': 'Под ключ',\n",
              "  'objLkFreePlanDesc': 'Есть',\n",
              "  'objElemParkingCnt': 0,\n",
              "  'objSquareLiving': 1519.0,\n",
              "  'rpdNum': '61-000818',\n",
              "  'rpdPdfLink': 'https://xn--80az8a.xn--d1aqf.xn--p1ai/api/ext/file/092af1ad-2b49-4150-8a92-293031e2f79a',\n",
              "  'rpdIssueDttm': '20-03-2019 18:41',\n",
              "  'objLkLatitude': '47.2238',\n",
              "  'objLkLongitude': '38.8513',\n",
              "  'objCompensFundFlg': 0,\n",
              "  'objProblemFlg': 0,\n",
              "  'objLkClassDesc': 'Комфорт',\n",
              "  'loadDttm': '25-09-2022 01:27',\n",
              "  'photoRenderDTO': [],\n",
              "  'objGuarantyEscrowFlg': 0,\n",
              "  'objectType': 'normal',\n",
              "  'residentialBuildings': 1,\n",
              "  'newBuildingId': 40800,\n",
              "  'objFlatCnt': 18,\n",
              "  'objFlatSq': '1519.0',\n",
              "  'objNonlivElemCnt': 0,\n",
              "  'objStatus': 0,\n",
              "  'isAvailableWantLiveHere': True,\n",
              "  'objInfrstrBicycleLaneFlg': 0,\n",
              "  'objInfrstrRampFlg': 0,\n",
              "  'objInfrstrCurbLoweringFlg': 0,\n",
              "  'objElevatorCargoPassengerCnt': 0,\n",
              "  'objectTransportInfo': [],\n",
              "  'conclusion': False,\n",
              "  'objGreenHouseFlg': 0,\n",
              "  'objEnergyEffShortDesc': 'Не нормируется',\n",
              "  'infrastructureIndexValue': 7},\n",
              " 'errcode': '0'}"
            ]
          },
          "metadata": {},
          "execution_count": 5
        }
      ],
      "source": [
        "res = requests.get(url)\n",
        "res.json()"
      ]
    },
    {
      "cell_type": "code",
      "execution_count": 6,
      "metadata": {
        "pycharm": {
          "name": "#%%\n"
        },
        "id": "aieRpvlPjqbo"
      },
      "outputs": [],
      "source": [
        "import pandas as pd\n"
      ]
    },
    {
      "cell_type": "code",
      "execution_count": 7,
      "metadata": {
        "pycharm": {
          "name": "#%%\n"
        },
        "id": "7yIOQipHjqbp"
      },
      "outputs": [],
      "source": [
        "df = pd.DataFrame(objects_list)"
      ]
    },
    {
      "cell_type": "code",
      "source": [
        "df.head()"
      ],
      "metadata": {
        "colab": {
          "base_uri": "https://localhost:8080/",
          "height": 733
        },
        "id": "hebtL9xgmWX4",
        "outputId": "d93afe96-e78d-4e74-e57f-66e8e2198702"
      },
      "execution_count": 8,
      "outputs": [
        {
          "output_type": "execute_result",
          "data": {
            "text/plain": [
              "   objId                                          developer  rpdRegionCd  \\\n",
              "0  13383  {'devId': 306, 'shortName': '2МЕН ГРУПП', 'ful...           72   \n",
              "1  13397  {'devId': 306, 'shortName': '2МЕН ГРУПП', 'ful...           72   \n",
              "2  13391  {'devId': 306, 'shortName': '2МЕН ГРУПП', 'ful...           72   \n",
              "3  13398  {'devId': 306, 'shortName': '2МЕН ГРУПП', 'ful...           72   \n",
              "4  13399  {'devId': 306, 'shortName': '2МЕН ГРУПП', 'ful...           72   \n",
              "\n",
              "                           objAddr  objFloorMin  objFloorMax  \\\n",
              "0                         г Тюмень            4           20   \n",
              "1  г Тюмень, ул Профсоюзная, д. 56            6           12   \n",
              "2         г Тюмень, ул Профсоюзная            3           12   \n",
              "3  г Тюмень, ул Профсоюзная, д. 56            7           10   \n",
              "4  г Тюмень, ул Профсоюзная, д. 56            1            1   \n",
              "\n",
              "   objElemLivingCnt objReady100PercDt  objSquareLiving  objCompensFundFlg  \\\n",
              "0                68        2022-12-31          6293.78                  1   \n",
              "1                65        2024-12-31          6248.51                  0   \n",
              "2                44        2022-12-31          4297.44                  1   \n",
              "3                43        2024-12-31          4812.98                  0   \n",
              "4                 0        2024-12-31             0.00                  0   \n",
              "\n",
              "   ...  problemFlag  siteStatus  objGuarantyEscrowFlg residentialBuildings  \\\n",
              "0  ...         NONE  Строящиеся                     0                    1   \n",
              "1  ...         NONE  Строящиеся                     0                    1   \n",
              "2  ...         NONE  Строящиеся                     0                    1   \n",
              "3  ...         NONE  Строящиеся                     0                    1   \n",
              "4  ...         NONE  Строящиеся                     0                    0   \n",
              "\n",
              "      rpdNum   pdId  buildType objStatus  objCommercNm complexShortName  \n",
              "0  72-000095  28105      Жилое         0           NaN              NaN  \n",
              "1  72-000097  28141      Жилое         0           NaN              NaN  \n",
              "2  72-000096  28101      Жилое         0           NaN              NaN  \n",
              "3  72-000097  28141      Жилое         0           NaN              NaN  \n",
              "4  72-000097  28141    Нежилое         0           NaN              NaN  \n",
              "\n",
              "[5 rows x 23 columns]"
            ],
            "text/html": [
              "\n",
              "  <div id=\"df-ff87927f-70f1-42fb-a750-7614e412f20d\">\n",
              "    <div class=\"colab-df-container\">\n",
              "      <div>\n",
              "<style scoped>\n",
              "    .dataframe tbody tr th:only-of-type {\n",
              "        vertical-align: middle;\n",
              "    }\n",
              "\n",
              "    .dataframe tbody tr th {\n",
              "        vertical-align: top;\n",
              "    }\n",
              "\n",
              "    .dataframe thead th {\n",
              "        text-align: right;\n",
              "    }\n",
              "</style>\n",
              "<table border=\"1\" class=\"dataframe\">\n",
              "  <thead>\n",
              "    <tr style=\"text-align: right;\">\n",
              "      <th></th>\n",
              "      <th>objId</th>\n",
              "      <th>developer</th>\n",
              "      <th>rpdRegionCd</th>\n",
              "      <th>objAddr</th>\n",
              "      <th>objFloorMin</th>\n",
              "      <th>objFloorMax</th>\n",
              "      <th>objElemLivingCnt</th>\n",
              "      <th>objReady100PercDt</th>\n",
              "      <th>objSquareLiving</th>\n",
              "      <th>objCompensFundFlg</th>\n",
              "      <th>...</th>\n",
              "      <th>problemFlag</th>\n",
              "      <th>siteStatus</th>\n",
              "      <th>objGuarantyEscrowFlg</th>\n",
              "      <th>residentialBuildings</th>\n",
              "      <th>rpdNum</th>\n",
              "      <th>pdId</th>\n",
              "      <th>buildType</th>\n",
              "      <th>objStatus</th>\n",
              "      <th>objCommercNm</th>\n",
              "      <th>complexShortName</th>\n",
              "    </tr>\n",
              "  </thead>\n",
              "  <tbody>\n",
              "    <tr>\n",
              "      <th>0</th>\n",
              "      <td>13383</td>\n",
              "      <td>{'devId': 306, 'shortName': '2МЕН ГРУПП', 'ful...</td>\n",
              "      <td>72</td>\n",
              "      <td>г Тюмень</td>\n",
              "      <td>4</td>\n",
              "      <td>20</td>\n",
              "      <td>68</td>\n",
              "      <td>2022-12-31</td>\n",
              "      <td>6293.78</td>\n",
              "      <td>1</td>\n",
              "      <td>...</td>\n",
              "      <td>NONE</td>\n",
              "      <td>Строящиеся</td>\n",
              "      <td>0</td>\n",
              "      <td>1</td>\n",
              "      <td>72-000095</td>\n",
              "      <td>28105</td>\n",
              "      <td>Жилое</td>\n",
              "      <td>0</td>\n",
              "      <td>NaN</td>\n",
              "      <td>NaN</td>\n",
              "    </tr>\n",
              "    <tr>\n",
              "      <th>1</th>\n",
              "      <td>13397</td>\n",
              "      <td>{'devId': 306, 'shortName': '2МЕН ГРУПП', 'ful...</td>\n",
              "      <td>72</td>\n",
              "      <td>г Тюмень, ул Профсоюзная, д. 56</td>\n",
              "      <td>6</td>\n",
              "      <td>12</td>\n",
              "      <td>65</td>\n",
              "      <td>2024-12-31</td>\n",
              "      <td>6248.51</td>\n",
              "      <td>0</td>\n",
              "      <td>...</td>\n",
              "      <td>NONE</td>\n",
              "      <td>Строящиеся</td>\n",
              "      <td>0</td>\n",
              "      <td>1</td>\n",
              "      <td>72-000097</td>\n",
              "      <td>28141</td>\n",
              "      <td>Жилое</td>\n",
              "      <td>0</td>\n",
              "      <td>NaN</td>\n",
              "      <td>NaN</td>\n",
              "    </tr>\n",
              "    <tr>\n",
              "      <th>2</th>\n",
              "      <td>13391</td>\n",
              "      <td>{'devId': 306, 'shortName': '2МЕН ГРУПП', 'ful...</td>\n",
              "      <td>72</td>\n",
              "      <td>г Тюмень, ул Профсоюзная</td>\n",
              "      <td>3</td>\n",
              "      <td>12</td>\n",
              "      <td>44</td>\n",
              "      <td>2022-12-31</td>\n",
              "      <td>4297.44</td>\n",
              "      <td>1</td>\n",
              "      <td>...</td>\n",
              "      <td>NONE</td>\n",
              "      <td>Строящиеся</td>\n",
              "      <td>0</td>\n",
              "      <td>1</td>\n",
              "      <td>72-000096</td>\n",
              "      <td>28101</td>\n",
              "      <td>Жилое</td>\n",
              "      <td>0</td>\n",
              "      <td>NaN</td>\n",
              "      <td>NaN</td>\n",
              "    </tr>\n",
              "    <tr>\n",
              "      <th>3</th>\n",
              "      <td>13398</td>\n",
              "      <td>{'devId': 306, 'shortName': '2МЕН ГРУПП', 'ful...</td>\n",
              "      <td>72</td>\n",
              "      <td>г Тюмень, ул Профсоюзная, д. 56</td>\n",
              "      <td>7</td>\n",
              "      <td>10</td>\n",
              "      <td>43</td>\n",
              "      <td>2024-12-31</td>\n",
              "      <td>4812.98</td>\n",
              "      <td>0</td>\n",
              "      <td>...</td>\n",
              "      <td>NONE</td>\n",
              "      <td>Строящиеся</td>\n",
              "      <td>0</td>\n",
              "      <td>1</td>\n",
              "      <td>72-000097</td>\n",
              "      <td>28141</td>\n",
              "      <td>Жилое</td>\n",
              "      <td>0</td>\n",
              "      <td>NaN</td>\n",
              "      <td>NaN</td>\n",
              "    </tr>\n",
              "    <tr>\n",
              "      <th>4</th>\n",
              "      <td>13399</td>\n",
              "      <td>{'devId': 306, 'shortName': '2МЕН ГРУПП', 'ful...</td>\n",
              "      <td>72</td>\n",
              "      <td>г Тюмень, ул Профсоюзная, д. 56</td>\n",
              "      <td>1</td>\n",
              "      <td>1</td>\n",
              "      <td>0</td>\n",
              "      <td>2024-12-31</td>\n",
              "      <td>0.00</td>\n",
              "      <td>0</td>\n",
              "      <td>...</td>\n",
              "      <td>NONE</td>\n",
              "      <td>Строящиеся</td>\n",
              "      <td>0</td>\n",
              "      <td>0</td>\n",
              "      <td>72-000097</td>\n",
              "      <td>28141</td>\n",
              "      <td>Нежилое</td>\n",
              "      <td>0</td>\n",
              "      <td>NaN</td>\n",
              "      <td>NaN</td>\n",
              "    </tr>\n",
              "  </tbody>\n",
              "</table>\n",
              "<p>5 rows × 23 columns</p>\n",
              "</div>\n",
              "      <button class=\"colab-df-convert\" onclick=\"convertToInteractive('df-ff87927f-70f1-42fb-a750-7614e412f20d')\"\n",
              "              title=\"Convert this dataframe to an interactive table.\"\n",
              "              style=\"display:none;\">\n",
              "        \n",
              "  <svg xmlns=\"http://www.w3.org/2000/svg\" height=\"24px\"viewBox=\"0 0 24 24\"\n",
              "       width=\"24px\">\n",
              "    <path d=\"M0 0h24v24H0V0z\" fill=\"none\"/>\n",
              "    <path d=\"M18.56 5.44l.94 2.06.94-2.06 2.06-.94-2.06-.94-.94-2.06-.94 2.06-2.06.94zm-11 1L8.5 8.5l.94-2.06 2.06-.94-2.06-.94L8.5 2.5l-.94 2.06-2.06.94zm10 10l.94 2.06.94-2.06 2.06-.94-2.06-.94-.94-2.06-.94 2.06-2.06.94z\"/><path d=\"M17.41 7.96l-1.37-1.37c-.4-.4-.92-.59-1.43-.59-.52 0-1.04.2-1.43.59L10.3 9.45l-7.72 7.72c-.78.78-.78 2.05 0 2.83L4 21.41c.39.39.9.59 1.41.59.51 0 1.02-.2 1.41-.59l7.78-7.78 2.81-2.81c.8-.78.8-2.07 0-2.86zM5.41 20L4 18.59l7.72-7.72 1.47 1.35L5.41 20z\"/>\n",
              "  </svg>\n",
              "      </button>\n",
              "      \n",
              "  <style>\n",
              "    .colab-df-container {\n",
              "      display:flex;\n",
              "      flex-wrap:wrap;\n",
              "      gap: 12px;\n",
              "    }\n",
              "\n",
              "    .colab-df-convert {\n",
              "      background-color: #E8F0FE;\n",
              "      border: none;\n",
              "      border-radius: 50%;\n",
              "      cursor: pointer;\n",
              "      display: none;\n",
              "      fill: #1967D2;\n",
              "      height: 32px;\n",
              "      padding: 0 0 0 0;\n",
              "      width: 32px;\n",
              "    }\n",
              "\n",
              "    .colab-df-convert:hover {\n",
              "      background-color: #E2EBFA;\n",
              "      box-shadow: 0px 1px 2px rgba(60, 64, 67, 0.3), 0px 1px 3px 1px rgba(60, 64, 67, 0.15);\n",
              "      fill: #174EA6;\n",
              "    }\n",
              "\n",
              "    [theme=dark] .colab-df-convert {\n",
              "      background-color: #3B4455;\n",
              "      fill: #D2E3FC;\n",
              "    }\n",
              "\n",
              "    [theme=dark] .colab-df-convert:hover {\n",
              "      background-color: #434B5C;\n",
              "      box-shadow: 0px 1px 3px 1px rgba(0, 0, 0, 0.15);\n",
              "      filter: drop-shadow(0px 1px 2px rgba(0, 0, 0, 0.3));\n",
              "      fill: #FFFFFF;\n",
              "    }\n",
              "  </style>\n",
              "\n",
              "      <script>\n",
              "        const buttonEl =\n",
              "          document.querySelector('#df-ff87927f-70f1-42fb-a750-7614e412f20d button.colab-df-convert');\n",
              "        buttonEl.style.display =\n",
              "          google.colab.kernel.accessAllowed ? 'block' : 'none';\n",
              "\n",
              "        async function convertToInteractive(key) {\n",
              "          const element = document.querySelector('#df-ff87927f-70f1-42fb-a750-7614e412f20d');\n",
              "          const dataTable =\n",
              "            await google.colab.kernel.invokeFunction('convertToInteractive',\n",
              "                                                     [key], {});\n",
              "          if (!dataTable) return;\n",
              "\n",
              "          const docLinkHtml = 'Like what you see? Visit the ' +\n",
              "            '<a target=\"_blank\" href=https://colab.research.google.com/notebooks/data_table.ipynb>data table notebook</a>'\n",
              "            + ' to learn more about interactive tables.';\n",
              "          element.innerHTML = '';\n",
              "          dataTable['output_type'] = 'display_data';\n",
              "          await google.colab.output.renderOutput(dataTable, element);\n",
              "          const docLink = document.createElement('div');\n",
              "          docLink.innerHTML = docLinkHtml;\n",
              "          element.appendChild(docLink);\n",
              "        }\n",
              "      </script>\n",
              "    </div>\n",
              "  </div>\n",
              "  "
            ]
          },
          "metadata": {},
          "execution_count": 8
        }
      ]
    },
    {
      "cell_type": "code",
      "source": [
        "df.to_excel (r'dataframe.xlsx', index = False, header=True)"
      ],
      "metadata": {
        "id": "Nuu-bjv6mnaZ"
      },
      "execution_count": 17,
      "outputs": []
    }
  ],
  "metadata": {
    "kernelspec": {
      "display_name": "Python 3 (ipykernel)",
      "language": "python",
      "name": "python3"
    },
    "language_info": {
      "codemirror_mode": {
        "name": "ipython",
        "version": 3
      },
      "file_extension": ".py",
      "mimetype": "text/x-python",
      "name": "python",
      "nbconvert_exporter": "python",
      "pygments_lexer": "ipython3",
      "version": "3.9.7"
    },
    "colab": {
      "provenance": [],
      "collapsed_sections": [],
      "include_colab_link": true
    }
  },
  "nbformat": 4,
  "nbformat_minor": 0
}