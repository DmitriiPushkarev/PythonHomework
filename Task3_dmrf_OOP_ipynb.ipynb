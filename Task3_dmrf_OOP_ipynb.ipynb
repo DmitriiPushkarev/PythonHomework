{
  "cells": [
    {
      "cell_type": "markdown",
      "metadata": {
        "id": "view-in-github",
        "colab_type": "text"
      },
      "source": [
        "<a href=\"https://colab.research.google.com/github/DmitriiPushkarev/PythonHomework/blob/main/Task3_dmrf_OOP_ipynb.ipynb\" target=\"_parent\"><img src=\"https://colab.research.google.com/assets/colab-badge.svg\" alt=\"Open In Colab\"/></a>"
      ]
    },
    {
      "cell_type": "markdown",
      "metadata": {
        "pycharm": {
          "name": "#%% md\n"
        },
        "id": "AUjnStA30Fmu"
      },
      "source": [
        "[![Open In Colab](https://colab.research.google.com/assets/colab-badge.svg)](https://colab.research.google.com/github/lectures-python/Python_lectures_HW/blob/main/HW/Task3_dmrf_OOP.ipynb)"
      ]
    },
    {
      "cell_type": "markdown",
      "metadata": {
        "pycharm": {
          "name": "#%% md\n"
        },
        "id": "13gu5SgB0Fmx"
      },
      "source": [
        "# Задание\n",
        "Реализовать с помощью объектно-ориентированного подхода предыдущие 2 задания. Создайте для каждой из задач отдельный класс, который позволяет ее решить.\n",
        "\n",
        "* Собрать информацию о всех строящихся объектах на сайте \"наш.дом.рф\"\n",
        "* Cохранить ее в pandas dataframe, а также в excel, pickle, БД\n",
        "\n",
        "* Проверить состояние датафрейма и привести его в формат, позволяющий дальнейшее исследование данных\n",
        "\n",
        "*  Сделать визуализацию для мини-исследования рынка строящейся недвижимости в одном или нескольких регионах с помощью pandas, matplotlib, seaborn, plotly и других инструментов.\n",
        "\n"
      ]
    },
    {
      "cell_type": "code",
      "execution_count": 32,
      "metadata": {
        "pycharm": {
          "name": "#%%\n"
        },
        "id": "MleC6-GZ0Fmy"
      },
      "outputs": [],
      "source": [
        "import requests\n",
        "import pandas as pd\n",
        "import seaborn as sns"
      ]
    },
    {
      "cell_type": "markdown",
      "metadata": {
        "pycharm": {
          "name": "#%% md\n"
        },
        "id": "QH779_2O0Fmz"
      },
      "source": [
        "## Список объектов"
      ]
    },
    {
      "cell_type": "code",
      "execution_count": 11,
      "metadata": {
        "pycharm": {
          "name": "#%%\n"
        },
        "id": "HnTxEc1M0Fmz",
        "colab": {
          "base_uri": "https://localhost:8080/"
        },
        "outputId": "eea9d2a1-73a7-423f-ccc5-829a661d61d3"
      },
      "outputs": [
        {
          "output_type": "execute_result",
          "data": {
            "text/plain": [
              "[13383, 13397, 13399, 13398, 13391, 36912, 44076, 27476, 10891, 39176]"
            ]
          },
          "metadata": {},
          "execution_count": 11
        }
      ],
      "source": [
        "offset_ = 1\n",
        "limit_ = 100\n",
        "url = f'https://xn--80az8a.xn--d1aqf.xn--p1ai/%D1%81%D0%B5%D1%80%D0%B2%D0%B8%D1%81%D1%8B/api/kn/object?offset={offset_}&limit={limit_}&sortField=devId.devShortCleanNm&sortType=asc&objStatus=0'\n",
        "res = requests.get(url)\n",
        "objects_data = res.json()\n",
        "objects_data.get('data').get('list')[0]\n",
        "\n",
        "objects_list = objects_data.get('data').get('list')\n",
        "objids = [x.get('objId') for x in objects_list]\n",
        "objids[:10]"
      ]
    },
    {
      "cell_type": "markdown",
      "metadata": {
        "pycharm": {
          "name": "#%% md\n"
        },
        "id": "yUCJhYL20Fm0"
      },
      "source": [
        "# Данные по определенному объекту"
      ]
    },
    {
      "cell_type": "code",
      "execution_count": 17,
      "metadata": {
        "pycharm": {
          "name": "#%%\n"
        },
        "id": "bpMyhl7Y0Fm0"
      },
      "outputs": [],
      "source": [
        "url = f'https://xn--80az8a.xn--d1aqf.xn--p1ai/%D1%81%D0%B5%D1%80%D0%B2%D0%B8%D1%81%D1%8B/api/object/29679'"
      ]
    },
    {
      "cell_type": "code",
      "execution_count": 22,
      "metadata": {
        "pycharm": {
          "name": "#%%\n"
        },
        "id": "bHF1aK-A0Fm1"
      },
      "outputs": [],
      "source": [
        "class DomIdLoader:\n",
        "    def __init__(self):\n",
        "        self.offset_ = 1\n",
        "        self.limit_ = 100\n",
        "        self.url = 'https://xn--80az8a.xn--d1aqf.xn--p1ai/%D1%81%D0%B5%D1%80%D0%B2%D0%B8%D1%81%D1%8B/api/kn/object'\n",
        "        self.all_objects = []\n",
        "\n",
        "    def get_ids(self):\n",
        "        for objId in objids:\n",
        "          url_object = (f'https://xn--80az8a.xn--d1aqf.xn--p1ai/%D1%81%D0%B5%D1%80%D0%B2%D0%B8%D1%81%D1%8B/api/object/{objId}')\n",
        "          res = requests.get(url_object)\n",
        "          self.all_objects.append(res.json().get('data'))\n",
        "\n",
        "    def show_ids(self):\n",
        "        print(self.all_objects[:5])\n"
      ]
    },
    {
      "cell_type": "code",
      "source": [
        "loader = DomIdLoader()\n",
        "loader.get_ids()\n",
        "loader.show_ids()"
      ],
      "metadata": {
        "id": "sROEHVH-1tCt"
      },
      "execution_count": null,
      "outputs": []
    },
    {
      "cell_type": "code",
      "execution_count": 30,
      "metadata": {
        "pycharm": {
          "name": "#%%\n"
        },
        "id": "WeYpS38q0Fm1"
      },
      "outputs": [],
      "source": [
        "class ObjectInfoExtractor:\n",
        "    def __init__(self, ids):\n",
        "        self.df = None\n",
        "        self.ids = ids\n",
        "        \n",
        "    def df_converter(self):\n",
        "        self.df = pd.DataFrame(self.ids)"
      ]
    },
    {
      "cell_type": "code",
      "source": [
        "extractor = ObjectInfoExtractor(loader.show_ids())\n",
        "extractor.df_converter()"
      ],
      "metadata": {
        "id": "ELd9ZNMR4kli"
      },
      "execution_count": null,
      "outputs": []
    },
    {
      "cell_type": "code",
      "execution_count": 33,
      "metadata": {
        "pycharm": {
          "name": "#%%\n"
        },
        "id": "4WHijvHM0Fm2"
      },
      "outputs": [],
      "source": [
        "class Saver:\n",
        "    def __init__(self, df):\n",
        "        self.df = df\n",
        "\n",
        "    def save_csv(self):\n",
        "        self.df.to_csv (r'dataframe.csv', index = False, header=True)\n",
        "\n",
        "    def save_xl(self):\n",
        "        self.df.to_excel (r'dataframe.xlsx', index = False, header=True)\n",
        "\n",
        "class Visualizer:\n",
        "    def __init__(self,df):\n",
        "        self.df = df\n",
        "\n",
        "    def make_boxplot(self, x, y, hue):\n",
        "        sns.set_theme()\n",
        "        sns.set(rc = self.__options)\n",
        "        sns.barplot(x = x, y = y, hue = hue, data = self.data)"
      ]
    },
    {
      "cell_type": "code",
      "execution_count": null,
      "metadata": {
        "pycharm": {
          "name": "#%%\n"
        },
        "id": "Kq5_JrUF0Fm3"
      },
      "outputs": [],
      "source": []
    }
  ],
  "metadata": {
    "kernelspec": {
      "display_name": "Python 3 (ipykernel)",
      "language": "python",
      "name": "python3"
    },
    "language_info": {
      "codemirror_mode": {
        "name": "ipython",
        "version": 3
      },
      "file_extension": ".py",
      "mimetype": "text/x-python",
      "name": "python",
      "nbconvert_exporter": "python",
      "pygments_lexer": "ipython3",
      "version": "3.9.7"
    },
    "colab": {
      "provenance": [],
      "include_colab_link": true
    }
  },
  "nbformat": 4,
  "nbformat_minor": 0
}