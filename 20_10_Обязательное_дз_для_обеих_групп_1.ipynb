{
  "cells": [
    {
      "cell_type": "markdown",
      "metadata": {
        "id": "view-in-github",
        "colab_type": "text"
      },
      "source": [
        "<a href=\"https://colab.research.google.com/github/DmitriiPushkarev/PythonHomework/blob/main/20_10_%D0%9E%D0%B1%D1%8F%D0%B7%D0%B0%D1%82%D0%B5%D0%BB%D1%8C%D0%BD%D0%BE%D0%B5_%D0%B4%D0%B7_%D0%B4%D0%BB%D1%8F_%D0%BE%D0%B1%D0%B5%D0%B8%D1%85_%D0%B3%D1%80%D1%83%D0%BF%D0%BF_1.ipynb\" target=\"_parent\"><img src=\"https://colab.research.google.com/assets/colab-badge.svg\" alt=\"Open In Colab\"/></a>"
      ]
    },
    {
      "cell_type": "markdown",
      "metadata": {
        "id": "oE83eZ7L7-5q"
      },
      "source": [
        "# План:\n",
        "1. Python\n",
        "2. Numpy\n",
        "3. Pandas\n",
        "4. Regexp + regexp with dataframes\n",
        "5. Texts\n",
        "6. Matplotlib, Seaborn\n",
        "7. Classification, clustering, binary, multiclass, multilabel\n",
        "8. Metrics\n",
        "9. Feature extraction\n",
        "10. Pyspark/sql"
      ]
    },
    {
      "cell_type": "markdown",
      "metadata": {
        "id": "f5XKaq5x7-5u"
      },
      "source": [
        "<img src=\"gifs/start.gif\" width=\"400\">"
      ]
    },
    {
      "cell_type": "markdown",
      "metadata": {
        "id": "5W1f3O2r7-5u"
      },
      "source": [
        "# Python\n",
        "\n",
        "* Целая куча упражнений на типы данных\\операторы и функции\n",
        "\n",
        "https://www.w3resource.com/python-exercises/"
      ]
    },
    {
      "cell_type": "markdown",
      "metadata": {
        "id": "ZHddAJ4I7-5v"
      },
      "source": [
        "Типы данных:\n",
        "    * Числа (7382, 3.14, 3+4j, Decimal, Fraction)\n",
        "    * Строки ('net', \"your's\", u'радость')\n",
        "    * Списки ([1, [2, 'three'], 4])\n",
        "    * Словари ({'Alex': 2, 'Brian': 4})\n",
        "    * Кортежи ('Leo', 21.7, 'single')\n",
        "    * Множества (set(1,2,3), {'a', 'b', 'c'})\n",
        "    * Файлы (open('myfile', 'r'))"
      ]
    },
    {
      "cell_type": "markdown",
      "metadata": {
        "id": "UKn_wHVK7-5v"
      },
      "source": [
        "1. Склеить 3 подстроки \"ada\", \"lovelace\", \"was considered the world's first computer programmer.\". Первые две строки сделать с большой буквы.  (★☆☆)"
      ]
    },
    {
      "cell_type": "code",
      "execution_count": null,
      "metadata": {
        "id": "jRBB73ve7-5w",
        "colab": {
          "base_uri": "https://localhost:8080/"
        },
        "outputId": "96b512d7-9bfc-4837-f390-7cd68e65bcde"
      },
      "outputs": [
        {
          "output_type": "stream",
          "name": "stdout",
          "text": [
            "Ada Lovelca was considered the worlds first computer programmer.\n"
          ]
        }
      ],
      "source": [
        "a = 'ada'\n",
        "b = 'lovelca'\n",
        "c = 'was considered the world''s first computer programmer.'\n",
        "d = \"{} {} {}\".format(a.capitalize(), b.capitalize(), c)\n",
        "print(d)"
      ]
    },
    {
      "cell_type": "markdown",
      "metadata": {
        "id": "SLC83wKC7-5x"
      },
      "source": [
        "2. Удаление лишних пробельных символов справа, слева, с обоих сторон  (☆☆☆)"
      ]
    },
    {
      "cell_type": "code",
      "execution_count": null,
      "metadata": {
        "id": "TzYAeuH87-5y",
        "colab": {
          "base_uri": "https://localhost:8080/"
        },
        "outputId": "4018be42-f356-426c-b4ac-77f8b2a592a9"
      },
      "outputs": [
        {
          "output_type": "stream",
          "name": "stdout",
          "text": [
            "AMOGUS \n",
            " AMOGUS\n",
            "AMOGUS\n"
          ]
        }
      ],
      "source": [
        "a = ' AMOGUS '\n",
        "print(a.lstrip())\n",
        "print(a.rstrip())\n",
        "print(a.strip())"
      ]
    },
    {
      "cell_type": "markdown",
      "metadata": {
        "id": "CDNdDtgf7-5y"
      },
      "source": [
        "3. Найти первое вхождение в строку подстроки (☆☆☆)"
      ]
    },
    {
      "cell_type": "code",
      "execution_count": null,
      "metadata": {
        "id": "UUcgKgMU7-5z",
        "colab": {
          "base_uri": "https://localhost:8080/"
        },
        "outputId": "ec9bb580-9a06-4171-cef2-43305df55141"
      },
      "outputs": [
        {
          "output_type": "stream",
          "name": "stdout",
          "text": [
            "7\n"
          ]
        }
      ],
      "source": [
        "s1=\"But if you stick with me, I’m gonna accomplish great things, Morty, and you’re gonna be part of ’em.\"\n",
        "s2=\"you\"\n",
        "\n",
        "##your code\n",
        "print(s1.find(s2))"
      ]
    },
    {
      "cell_type": "markdown",
      "metadata": {
        "id": "ucfkW-My7-53"
      },
      "source": [
        "* isdigit - состоит ли строка из цифр;\n",
        "* isalpha - состоит ли строка из букв;\n",
        "* isalnum - состоит ли строка из цифр или букв;\n",
        "* islower - состоит ли строка из символов в нижнем регистре;\n",
        "* isupper - состоит ли строка из символов в верхнем регистре;\n",
        "* istitle - начинаются ли слова в строке с заглавной буквы."
      ]
    },
    {
      "cell_type": "markdown",
      "metadata": {
        "id": "glYpHxe17-53"
      },
      "source": [
        "4. Разбить строку по разделителю (☆☆☆)"
      ]
    },
    {
      "cell_type": "code",
      "execution_count": null,
      "metadata": {
        "id": "eQdWkDj87-54",
        "colab": {
          "base_uri": "https://localhost:8080/"
        },
        "outputId": "2607998c-f9d4-4ffa-c311-604b976b02d1"
      },
      "outputs": [
        {
          "output_type": "stream",
          "name": "stdout",
          "text": [
            "['Holy', 'cow,', 'Rick!', 'I', 'didn’t', 'know', 'hanging', 'out', 'with', 'you', 'was', 'making', 'me', 'smarter!']\n"
          ]
        }
      ],
      "source": [
        "s1=\"Holy#cow,#Rick!#I#didn’t#know#hanging#out#with#you#was#making#me#smarter!\"\n",
        "\n",
        "##your code\n",
        "a = s1.split('#')\n",
        "print(a)"
      ]
    },
    {
      "cell_type": "markdown",
      "metadata": {
        "id": "ZYvWj__67-54"
      },
      "source": [
        "5. Полученный массив строк склеить через пробел (★☆☆)"
      ]
    },
    {
      "cell_type": "code",
      "execution_count": null,
      "metadata": {
        "id": "FYahPQbj7-54",
        "colab": {
          "base_uri": "https://localhost:8080/"
        },
        "outputId": "28d46163-9d42-4138-de1e-769f426645c8"
      },
      "outputs": [
        {
          "output_type": "stream",
          "name": "stdout",
          "text": [
            "Holy cow, Rick! I didn’t know hanging out with you was making me smarter!\n"
          ]
        }
      ],
      "source": [
        "print(' '.join(a))"
      ]
    },
    {
      "cell_type": "markdown",
      "metadata": {
        "id": "gBWcMRgA7-54"
      },
      "source": [
        "6. Вывести данные из словаря в три строки в виде \"NAME (age AGE) is a JOB\" (★☆☆)\n",
        "\n",
        "(hint: .format())"
      ]
    },
    {
      "cell_type": "code",
      "execution_count": null,
      "metadata": {
        "id": "DYRA4y_b7-55",
        "colab": {
          "base_uri": "https://localhost:8080/"
        },
        "outputId": "fc6468c9-551d-4b03-afcd-05c1ae7a8453"
      },
      "outputs": [
        {
          "output_type": "stream",
          "name": "stdout",
          "text": [
            "name Ann age 29 is a job Artist\n",
            "name Leo age 54 is a job Programmer\n",
            "name Tiffany age 43 is a job Shop Assistant\n"
          ]
        }
      ],
      "source": [
        "personal_data = {1: (\"Ann\", 29, \"Artist\"), \n",
        "               2: (\"Leo\", 54, \"Programmer\"), \n",
        "               3: (\"Tiffany\", 43, \"Shop Assistant\")}\n",
        "\n",
        "##your code\n",
        "print('name {p[0]} age {p[1]} is a job {p[2]}'.format(p = personal_data[1]))\n",
        "print('name {p[0]} age {p[1]} is a job {p[2]}'.format(p = personal_data[2]))\n",
        "print('name {p[0]} age {p[1]} is a job {p[2]}'.format(p = personal_data[3]))"
      ]
    },
    {
      "cell_type": "markdown",
      "metadata": {
        "id": "i9B4DWOZ7-55"
      },
      "source": [
        "7. Требуется определить, является ли данный год високосным. (год является високосным, если его номер кратен 4, но не кратен 100, а также если он кратен 400.)  (★★☆)\n",
        "\n",
        "Входные данные: Вводится единственное число - номер года (целое, положительное, не превышает 30000).\n",
        "\n",
        "Выходные данные: Требуется вывести слово YES, если год является високосным и NO - в противном случае."
      ]
    },
    {
      "cell_type": "code",
      "execution_count": null,
      "metadata": {
        "id": "tnB75I627-55",
        "colab": {
          "base_uri": "https://localhost:8080/"
        },
        "outputId": "ae8b3d6e-6ed8-48be-ffbb-a11c07fc77ef"
      },
      "outputs": [
        {
          "output_type": "stream",
          "name": "stdout",
          "text": [
            "Введите год: 2100\n",
            "NO\n"
          ]
        }
      ],
      "source": [
        "year = int(input(\"Введите год: \"))\n",
        "if year > 30000 and year < 0:\n",
        "  print('Неправльное число')\n",
        "else:\n",
        "  if (year % 4 == 0 and year % 100 != 0) or year % 400 == 0:\n",
        "    print('YES')\n",
        "  else:\n",
        "    print('NO')"
      ]
    },
    {
      "cell_type": "markdown",
      "metadata": {
        "id": "K_PZ2DEf7-55"
      },
      "source": [
        "8. Закодируйте каждый элемент списка слов числом, результат сопоставления (слово-число) поместите в словарь.  (★☆☆)"
      ]
    },
    {
      "cell_type": "code",
      "execution_count": null,
      "metadata": {
        "id": "SPs9JyRF7-56",
        "colab": {
          "base_uri": "https://localhost:8080/"
        },
        "outputId": "ded2ca75-a1ac-42d0-a0ab-78f6b799f0bb"
      },
      "outputs": [
        {
          "output_type": "stream",
          "name": "stdout",
          "text": [
            "{'Not': 3, 'my': 2, 'cup': 3, 'of': 2, 'tea': 3}\n"
          ]
        }
      ],
      "source": [
        "words = ['Not', 'my', 'cup', 'of', 'tea']\n",
        "\n",
        "##your code\n",
        "numbers = [3, 2, 3, 2, 3]\n",
        "words_dictionary = dict(zip(words, numbers))\n",
        "print(words_dictionary)"
      ]
    },
    {
      "cell_type": "markdown",
      "metadata": {
        "id": "VpAE38WK7-56"
      },
      "source": [
        "9. Удалить второй элемент из списка по индексу\\по значению  (★☆☆)"
      ]
    },
    {
      "cell_type": "code",
      "execution_count": null,
      "metadata": {
        "id": "1R9l4Ftu7-56",
        "colab": {
          "base_uri": "https://localhost:8080/"
        },
        "outputId": "0f85970a-72fc-4c98-d969-c53d6212f87d"
      },
      "outputs": [
        {
          "output_type": "stream",
          "name": "stdout",
          "text": [
            "['australian cattle dog']\n"
          ]
        }
      ],
      "source": [
        "dogs = ['border collie', 'australian cattle dog', 'labrador retriever']\n",
        "\n",
        "##your code\n",
        "dogs.remove('border collie')\n",
        "dogs.pop(1)\n",
        "print(dogs)"
      ]
    },
    {
      "cell_type": "markdown",
      "metadata": {
        "id": "OSHCsLjY7-56"
      },
      "source": [
        "10. Вывести срез списка с 3 по 5 элемент включительно и все слова перевести в верхний регистр (★☆☆)"
      ]
    },
    {
      "cell_type": "code",
      "execution_count": null,
      "metadata": {
        "id": "JGma4FNP7-56",
        "colab": {
          "base_uri": "https://localhost:8080/"
        },
        "outputId": "dbd0d84b-8886-437c-f13c-b8d6e32b4eac"
      },
      "outputs": [
        {
          "output_type": "stream",
          "name": "stdout",
          "text": [
            "AUSTRALIAN\n",
            "CATTLE\n",
            "DOG\n"
          ]
        }
      ],
      "source": [
        "dogs = ['border', 'collie', 'australian', 'cattle', 'dog', 'labrador', 'retriever']\n",
        "\n",
        "##your code\n",
        "for i in range(5):\n",
        "    if i > 1:\n",
        "      print(dogs[i].upper())"
      ]
    },
    {
      "cell_type": "markdown",
      "metadata": {
        "id": "xvQNspgc7-57"
      },
      "source": [
        "11. Словарь словарей. Вывести из словаря для каждого питомца его имя, породу, имя владельца, и наличие прививки. Строку вывода формировать через .format() (★☆☆)"
      ]
    },
    {
      "cell_type": "code",
      "execution_count": null,
      "metadata": {
        "id": "9T8ZTmf87-57",
        "colab": {
          "base_uri": "https://localhost:8080/"
        },
        "outputId": "a3d0ff6d-8e5a-4481-a551-568448049e6f"
      },
      "outputs": [
        {
          "output_type": "stream",
          "name": "stdout",
          "text": [
            "dog eric True\n",
            "cockroach eric False\n",
            "dog chloe True\n"
          ]
        }
      ],
      "source": [
        "pets = {'willie': {'kind': 'dog', 'owner': 'eric', 'vaccinated': True},\n",
        "        'walter': {'kind': 'cockroach', 'owner': 'eric', 'vaccinated': False},\n",
        "        'peso': {'kind': 'dog', 'owner': 'chloe', 'vaccinated': True},\n",
        "        }\n",
        "\n",
        "##your code\n",
        "print('{willie[kind]} {willie[owner]} {willie[vaccinated]}'.format(**pets))\n",
        "print('{walter[kind]} {walter[owner]} {walter[vaccinated]}'.format(**pets))\n",
        "print('{peso[kind]} {peso[owner]} {peso[vaccinated]}'.format(**pets))\n",
        "# я незнаю как компактнее вывести"
      ]
    },
    {
      "cell_type": "markdown",
      "metadata": {
        "id": "Bah9sBea7-57"
      },
      "source": [
        "12. Проверить является ли множество подмножеством другого множества  (★☆☆)"
      ]
    },
    {
      "cell_type": "code",
      "execution_count": null,
      "metadata": {
        "id": "LvJCOUVy7-57",
        "colab": {
          "base_uri": "https://localhost:8080/"
        },
        "outputId": "d7260fc1-520e-4ece-8d38-246b7bb2b169"
      },
      "outputs": [
        {
          "output_type": "execute_result",
          "data": {
            "text/plain": [
              "True"
            ]
          },
          "metadata": {},
          "execution_count": 65
        }
      ],
      "source": [
        "a=set([2, 5, 6])\n",
        "b=set([2, 4, 8, 3, 5, 6])\n",
        "\n",
        "##your code\n",
        "a.issubset(b)"
      ]
    },
    {
      "cell_type": "markdown",
      "metadata": {
        "id": "sfVwYMPL7-57"
      },
      "source": [
        "13. Объединить несколько множеств (★☆☆)"
      ]
    },
    {
      "cell_type": "code",
      "execution_count": null,
      "metadata": {
        "id": "hrKKF3kp7-58",
        "colab": {
          "base_uri": "https://localhost:8080/"
        },
        "outputId": "fb2dce42-6f39-4960-8e94-e63ae21f4473"
      },
      "outputs": [
        {
          "output_type": "execute_result",
          "data": {
            "text/plain": [
              "{2, 3, 4, 5, 6, 8, 10, 35}"
            ]
          },
          "metadata": {},
          "execution_count": 70
        }
      ],
      "source": [
        "a=set([10, 35, 6, 5])\n",
        "b=set([2, 4, 8, 3, 5, 6, 35])\n",
        "c=set([4, 5, 35])\n",
        "\n",
        "##your code\n",
        "a.union(b,c)"
      ]
    },
    {
      "cell_type": "markdown",
      "metadata": {
        "id": "bI5lcYGM7-58"
      },
      "source": [
        "14. Посчитать пересечение множества b с остальными из предыдущего задания  (★★☆)\n",
        "\n",
        "(hint: set.intersection(other, ...) (или set & other &) )"
      ]
    },
    {
      "cell_type": "code",
      "execution_count": null,
      "metadata": {
        "id": "ZpsU-iaT7-58",
        "colab": {
          "base_uri": "https://localhost:8080/"
        },
        "outputId": "15da28b3-09a7-416f-fa2b-0f43f24b89d3"
      },
      "outputs": [
        {
          "output_type": "execute_result",
          "data": {
            "text/plain": [
              "{5, 35}"
            ]
          },
          "metadata": {},
          "execution_count": 71
        }
      ],
      "source": [
        "b.intersection(a,c) "
      ]
    },
    {
      "cell_type": "markdown",
      "metadata": {
        "id": "uVuXAMxR7-58"
      },
      "source": [
        "15. Вывести множество из элементов, встречающихся в одном множестве, но не встречающиеся в обоих. (★★☆)\n",
        "\n",
        "(hint: .symmetric_difference())"
      ]
    },
    {
      "cell_type": "code",
      "execution_count": null,
      "metadata": {
        "id": "EmdVX2Vn7-58"
      },
      "outputs": [],
      "source": [
        "a=set([1, 2, 3, 4, 5])\n",
        "b=set([3, 4, 5, 6, 7])\n",
        "\n",
        "##your code"
      ]
    },
    {
      "cell_type": "code",
      "execution_count": null,
      "metadata": {
        "id": "Mebx5mQE7-58",
        "colab": {
          "base_uri": "https://localhost:8080/"
        },
        "outputId": "b1f14f3f-5db1-4f2a-805a-9ed5256592d1"
      },
      "outputs": [
        {
          "output_type": "execute_result",
          "data": {
            "text/plain": [
              "{1, 2, 6, 7}"
            ]
          },
          "metadata": {},
          "execution_count": 74
        }
      ],
      "source": [
        "a.symmetric_difference(b)"
      ]
    },
    {
      "cell_type": "markdown",
      "metadata": {
        "id": "IzGjqSPG7-58"
      },
      "source": [
        "16. Предположим, есть файл с данными клиентов. В качестве простого примера воьзьмем txt-файл(нужно создать файл с предложенным/другим содержанием самостоятельно) следующего содержания:\n",
        "\n",
        "    lastname,age,debt,occupation\n",
        "    \n",
        "    Adrianov,25,30000,artist\n",
        "    \n",
        "    Нужно считать файл data/credit_sample.txt.\n",
        "    Сделать словарь вида:\n",
        "        {lastname: (age,debt,occupation)}\n",
        "    \n",
        "    Посчитать сколько уникальных профессий получилось в словаре.\n",
        "    \n",
        "    Результат записать в json (★★★)"
      ]
    },
    {
      "cell_type": "code",
      "execution_count": 60,
      "metadata": {
        "id": "-Tmno7Y27-59"
      },
      "outputs": [],
      "source": [
        "my_file = open(\"credit_sample.txt\", \"w+\")\n"
      ]
    },
    {
      "cell_type": "code",
      "source": [
        "my_file.write(\"lastname,age,debt,occupation Adrianov,25,30000,artist!\")"
      ],
      "metadata": {
        "id": "2gmOBiLxZgq7"
      },
      "execution_count": null,
      "outputs": []
    },
    {
      "cell_type": "code",
      "source": [
        "import json"
      ],
      "metadata": {
        "id": "-xz9H6seeJpR"
      },
      "execution_count": 76,
      "outputs": []
    },
    {
      "cell_type": "code",
      "source": [
        "my_file = open(\"credit_sample.txt\")\n",
        "a = my_file.read()\n",
        "my_file.close()\n",
        "b = a.split(',')\n",
        "\n",
        "c = {b[0]:'('+b[1] +','+ b[2] + ',' + b[3] + ')'}\n",
        "print(c)\n",
        "jsonStr = json.dumps(c)\n",
        "print(jsonStr)"
      ],
      "metadata": {
        "colab": {
          "base_uri": "https://localhost:8080/"
        },
        "id": "xdHAK8pLZp_7",
        "outputId": "011bb4dc-a503-4e0c-8b47-9556a5e2da4f"
      },
      "execution_count": 79,
      "outputs": [
        {
          "output_type": "stream",
          "name": "stdout",
          "text": [
            "{'lastname': '(age,debt,occupation Adrianov)'}\n",
            "{\"lastname\": \"(age,debt,occupation Adrianov)\"}\n"
          ]
        }
      ]
    },
    {
      "cell_type": "markdown",
      "metadata": {
        "id": "L-rqo8bV7-59"
      },
      "source": [
        "### os, sys, datetime"
      ]
    },
    {
      "cell_type": "code",
      "source": [
        "from datetime import datetime\n",
        "from datetime import timedelta\n",
        "import os, fnmatch\n",
        "\n",
        "from dateutil.relativedelta import relativedelta\n",
        "\n",
        "from dateutil.rrule import *"
      ],
      "metadata": {
        "id": "hPFoNk_MfXUz"
      },
      "execution_count": 45,
      "outputs": []
    },
    {
      "cell_type": "markdown",
      "metadata": {
        "id": "d_Xl0_Sn7-5-"
      },
      "source": [
        "17. Получить список файлов в папке gifs/ и оставить только файлы с расширением .gif (★★☆)"
      ]
    },
    {
      "cell_type": "code",
      "execution_count": 47,
      "metadata": {
        "id": "BbX1vHg27-5-",
        "colab": {
          "base_uri": "https://localhost:8080/"
        },
        "outputId": "48d6c5f0-aa2e-4bc6-8f8f-eb61c94f0509"
      },
      "outputs": [
        {
          "output_type": "stream",
          "name": "stdout",
          "text": [
            "california_housing_test.csv\n",
            "california_housing_train.csv\n",
            "mnist_train_small.csv\n",
            "mnist_test.csv\n"
          ]
        }
      ],
      "source": [
        "listOfFiles = os.listdir('sample_data') # могла быть папка gifs\n",
        "pattern = \"*.csv\" # мог быть формат .gif\n",
        "for entry in listOfFiles:  \n",
        "    if fnmatch.fnmatch(entry, pattern):\n",
        "            print(entry)"
      ]
    },
    {
      "cell_type": "markdown",
      "metadata": {
        "id": "ri_VgtjM7-5-"
      },
      "source": [
        "18. Создать папку с названием temp и удалить её (★☆☆)"
      ]
    },
    {
      "cell_type": "code",
      "execution_count": 52,
      "metadata": {
        "id": "om3C97ME7-5-"
      },
      "outputs": [],
      "source": [
        "os.mkdir(\"temp\")\n",
        "os.rmdir(\"temp\")"
      ]
    },
    {
      "cell_type": "markdown",
      "metadata": {
        "id": "6N333x6h7-5-"
      },
      "source": [
        "19. Вывести переменные среды (★☆☆)\n",
        "\n",
        "(hint: environ)"
      ]
    },
    {
      "cell_type": "code",
      "execution_count": 54,
      "metadata": {
        "id": "8zt8jasf7-5-",
        "colab": {
          "base_uri": "https://localhost:8080/"
        },
        "outputId": "0cbf6781-bf0c-4842-c1e8-980bcc491022"
      },
      "outputs": [
        {
          "output_type": "execute_result",
          "data": {
            "text/plain": [
              "environ{'NV_LIBCUBLAS_DEV_VERSION': '11.4.1.1043-1',\n",
              "        'NV_CUDA_COMPAT_PACKAGE': 'cuda-compat-11-2',\n",
              "        'NV_CUDNN_PACKAGE_DEV': 'libcudnn8-dev=8.1.1.33-1+cuda11.2',\n",
              "        'LD_LIBRARY_PATH': '/usr/local/nvidia/lib:/usr/local/nvidia/lib64',\n",
              "        'NV_LIBNCCL_DEV_PACKAGE': 'libnccl-dev=2.8.4-1+cuda11.2',\n",
              "        'TCLLIBPATH': '/usr/share/tcltk/tcllib1.19',\n",
              "        'CLOUDSDK_PYTHON': 'python3',\n",
              "        'LANG': 'en_US.UTF-8',\n",
              "        'NV_LIBNPP_DEV_PACKAGE': 'libnpp-dev-11-2=11.3.2.152-1',\n",
              "        'HOSTNAME': 'da779bdd6081',\n",
              "        'OLDPWD': '/',\n",
              "        'CLOUDSDK_CONFIG': '/content/.config',\n",
              "        'NV_LIBNPP_VERSION': '11.3.2.152-1',\n",
              "        'NV_NVPROF_DEV_PACKAGE': 'cuda-nvprof-11-2=11.2.152-1',\n",
              "        'NVIDIA_VISIBLE_DEVICES': 'all',\n",
              "        'NV_NVPROF_VERSION': '11.2.152-1',\n",
              "        'NV_LIBCUSPARSE_VERSION': '11.4.1.1152-1',\n",
              "        'DATALAB_SETTINGS_OVERRIDES': '{\"kernelManagerProxyPort\":6000,\"kernelManagerProxyHost\":\"172.28.0.3\",\"jupyterArgs\":[\"--ip=172.28.0.2\"],\"debugAdapterMultiplexerPath\":\"/usr/local/bin/dap_multiplexer\",\"enableLsp\":true}',\n",
              "        'NV_LIBCUBLAS_DEV_PACKAGE': 'libcublas-dev-11-2=11.4.1.1043-1',\n",
              "        'ENV': '/root/.bashrc',\n",
              "        'NCCL_VERSION': '2.8.4-1',\n",
              "        'TF_FORCE_GPU_ALLOW_GROWTH': 'true',\n",
              "        'NO_GCE_CHECK': 'False',\n",
              "        'PWD': '/',\n",
              "        'NVARCH': 'x86_64',\n",
              "        'HOME': '/root',\n",
              "        'NV_LIBCUSPARSE_DEV_VERSION': '11.4.1.1152-1',\n",
              "        'KMP_LISTEN_PORT': '6000',\n",
              "        'LAST_FORCED_REBUILD': '20221021',\n",
              "        'NV_LIBNCCL_PACKAGE_VERSION': '2.8.4-1',\n",
              "        'NV_LIBNCCL_PACKAGE': 'libnccl2=2.8.4-1+cuda11.2',\n",
              "        'DEBIAN_FRONTEND': 'noninteractive',\n",
              "        'NV_LIBNCCL_DEV_PACKAGE_NAME': 'libnccl-dev',\n",
              "        'NV_CUDA_LIB_VERSION': '11.2.2-1',\n",
              "        'NV_LIBNPP_PACKAGE': 'libnpp-11-2=11.3.2.152-1',\n",
              "        'NV_LIBNCCL_PACKAGE_NAME': 'libnccl2',\n",
              "        'LIBRARY_PATH': '/usr/local/cuda/lib64/stubs',\n",
              "        'NV_NVTX_VERSION': '11.2.152-1',\n",
              "        'NV_LIBCUBLAS_VERSION': '11.4.1.1043-1',\n",
              "        'NV_LIBCUBLAS_PACKAGE': 'libcublas-11-2=11.4.1.1043-1',\n",
              "        'GCE_METADATA_TIMEOUT': '3',\n",
              "        'NV_CUDNN_VERSION': '8.1.1.33',\n",
              "        'VM_GCE_METADATA_HOST': '169.254.169.254',\n",
              "        'NV_CUDA_CUDART_DEV_VERSION': '11.2.152-1',\n",
              "        'KMP_TARGET_PORT': '9000',\n",
              "        'GLIBCPP_FORCE_NEW': '1',\n",
              "        'TBE_CREDS_ADDR': '172.28.0.1:8008',\n",
              "        'SHELL': '/bin/bash',\n",
              "        'GCS_READ_CACHE_BLOCK_SIZE_MB': '16',\n",
              "        'NV_NVML_DEV_VERSION': '11.2.152-1',\n",
              "        'PYTHONWARNINGS': 'ignore:::pip._internal.cli.base_command',\n",
              "        'CUDA_VERSION': '11.2.2',\n",
              "        'NV_LIBCUBLAS_PACKAGE_NAME': 'libcublas-11-2',\n",
              "        'NVIDIA_DRIVER_CAPABILITIES': 'compute,utility',\n",
              "        'TBE_RUNTIME_ADDR': '172.28.0.1:8011',\n",
              "        'SHLVL': '0',\n",
              "        'PYTHONPATH': '/env/python',\n",
              "        'NV_LIBCUBLAS_DEV_PACKAGE_NAME': 'libcublas-dev-11-2',\n",
              "        'NVIDIA_REQUIRE_CUDA': 'cuda>=11.2 brand=tesla,driver>=418,driver<419 brand=tesla,driver>=450,driver<451',\n",
              "        'NV_LIBNPP_DEV_VERSION': '11.3.2.152-1',\n",
              "        'TBE_EPHEM_CREDS_ADDR': '172.28.0.1:8009',\n",
              "        'NV_CUDA_CUDART_VERSION': '11.2.152-1',\n",
              "        'NV_CUDNN_PACKAGE_NAME': 'libcudnn8',\n",
              "        'GLIBCXX_FORCE_NEW': '1',\n",
              "        'PATH': '/opt/bin:/usr/local/nvidia/bin:/usr/local/cuda/bin:/usr/local/sbin:/usr/local/bin:/usr/sbin:/usr/bin:/sbin:/bin:/tools/node/bin:/tools/google-cloud-sdk/bin',\n",
              "        'NV_LIBNCCL_DEV_PACKAGE_VERSION': '2.8.4-1',\n",
              "        'LD_PRELOAD': '/usr/lib/x86_64-linux-gnu/libtcmalloc.so.4',\n",
              "        'NV_CUDNN_PACKAGE': 'libcudnn8=8.1.1.33-1+cuda11.2',\n",
              "        'JPY_PARENT_PID': '59',\n",
              "        'TERM': 'xterm-color',\n",
              "        'CLICOLOR': '1',\n",
              "        'PAGER': 'cat',\n",
              "        'GIT_PAGER': 'cat',\n",
              "        'MPLBACKEND': 'module://ipykernel.pylab.backend_inline',\n",
              "        'ENABLE_DIRECTORYPREFETCHER': '1',\n",
              "        'USE_AUTH_EPHEM': '1',\n",
              "        'PYDEVD_USE_FRAME_EVAL': 'NO'}"
            ]
          },
          "metadata": {},
          "execution_count": 54
        }
      ],
      "source": [
        "os.environ"
      ]
    },
    {
      "cell_type": "markdown",
      "metadata": {
        "id": "s23izIbV7-5-"
      },
      "source": [
        "20. Как игнорировать warrnings?"
      ]
    },
    {
      "cell_type": "code",
      "source": [
        "# python -W ignore foo.py"
      ],
      "metadata": {
        "id": "tQXYBlw1Wo6D"
      },
      "execution_count": null,
      "outputs": []
    },
    {
      "cell_type": "markdown",
      "metadata": {
        "id": "XE6k7cay7-5-"
      },
      "source": [
        "* Про datetime и timedelta \n",
        "\n",
        "https://www.guru99.com/date-time-and-datetime-classes-in-python.html"
      ]
    },
    {
      "cell_type": "markdown",
      "metadata": {
        "id": "SzCH8oZO7-5-"
      },
      "source": [
        "21. Вывести сегодняшнюю, вчерашнюю и завтрашнюю дату (☆☆☆)"
      ]
    },
    {
      "cell_type": "code",
      "execution_count": null,
      "metadata": {
        "id": "J4duLqPc7-5_",
        "colab": {
          "base_uri": "https://localhost:8080/"
        },
        "outputId": "d9c136b9-f7af-489f-8e76-6ba32bf869e0"
      },
      "outputs": [
        {
          "output_type": "stream",
          "name": "stdout",
          "text": [
            "2022-10-25\n",
            "2022-10-24\n",
            "2022-10-26\n"
          ]
        }
      ],
      "source": [
        "print(datetime.now().date())\n",
        "print(datetime.now().date() - timedelta(days=1))\n",
        "print(datetime.now().date() + timedelta(days=1))"
      ]
    },
    {
      "cell_type": "markdown",
      "metadata": {
        "id": "MLqVlaHK7-5_"
      },
      "source": [
        "22. Вывести день недели сегодняшней даты (★☆☆)"
      ]
    },
    {
      "cell_type": "code",
      "execution_count": null,
      "metadata": {
        "id": "G8SGml7y7-5_",
        "colab": {
          "base_uri": "https://localhost:8080/"
        },
        "outputId": "8791cfa9-9761-4a89-d829-4e107441b3f8"
      },
      "outputs": [
        {
          "output_type": "execute_result",
          "data": {
            "text/plain": [
              "1"
            ]
          },
          "metadata": {},
          "execution_count": 130
        }
      ],
      "source": [
        "datetime.now().weekday()"
      ]
    },
    {
      "cell_type": "markdown",
      "metadata": {
        "id": "REha1tAt7-5_"
      },
      "source": [
        "23. Получить список дат за предыдущую неделю (★★☆)"
      ]
    },
    {
      "cell_type": "code",
      "execution_count": null,
      "metadata": {
        "id": "59rDsO2X7-5_",
        "colab": {
          "base_uri": "https://localhost:8080/"
        },
        "outputId": "85324d88-288b-40f4-c2fe-68423a880598"
      },
      "outputs": [
        {
          "output_type": "stream",
          "name": "stdout",
          "text": [
            "2022-10-24 14:24:43.170232\n",
            "2022-10-25 14:24:43.170232\n",
            "2022-10-19 14:24:43.170232\n",
            "2022-10-20 14:24:43.170232\n",
            "2022-10-21 14:24:43.170232\n",
            "2022-10-22 14:24:43.170232\n",
            "2022-10-23 14:24:43.170232\n"
          ]
        }
      ],
      "source": [
        "d = datetime.now()\n",
        "print(d + relativedelta(weekday=MO(-1)))\n",
        "print(d + relativedelta(weekday=TU(-1)))\n",
        "print(d + relativedelta(weekday=WE(-1)))\n",
        "print(d + relativedelta(weekday=TH(-1)))\n",
        "print(d + relativedelta(weekday=FR(-1)))\n",
        "print(d + relativedelta(weekday=SA(-1)))\n",
        "print(d + relativedelta(weekday=SU(-1)))"
      ]
    },
    {
      "cell_type": "markdown",
      "metadata": {
        "id": "eGzHWYoJ7-5_"
      },
      "source": [
        "24. Вывести дату с часами и минутами, отформатировать в формате: 01.12.2019 00:12:54 (★★☆)\n",
        "            \n",
        "(hint: now().strftime())"
      ]
    },
    {
      "cell_type": "code",
      "execution_count": null,
      "metadata": {
        "id": "ERifWa0x7-5_",
        "colab": {
          "base_uri": "https://localhost:8080/",
          "height": 36
        },
        "outputId": "ba3e3cf1-bd28-4af5-d811-7765bec41677"
      },
      "outputs": [
        {
          "output_type": "execute_result",
          "data": {
            "text/plain": [
              "'25.10.2022, 14:27:05'"
            ],
            "application/vnd.google.colaboratory.intrinsic+json": {
              "type": "string"
            }
          },
          "metadata": {},
          "execution_count": 141
        }
      ],
      "source": [
        "datetime.now().strftime(\"%d.%m.%Y, %H:%M:%S\")"
      ]
    },
    {
      "cell_type": "markdown",
      "metadata": {
        "id": "xtw6syHf7-5_"
      },
      "source": [
        "25. Исходя из текущей даты вычислить дату предыдущего понедельника (★★★)"
      ]
    },
    {
      "cell_type": "code",
      "execution_count": null,
      "metadata": {
        "id": "2j3IO3nm7-6A",
        "colab": {
          "base_uri": "https://localhost:8080/"
        },
        "outputId": "97c458dd-bb64-451b-a5aa-d2cfee541ccb"
      },
      "outputs": [
        {
          "output_type": "stream",
          "name": "stdout",
          "text": [
            "2022-10-17 14:24:43.170232\n"
          ]
        }
      ],
      "source": [
        "print(d + relativedelta(weekday=MO(-2)))"
      ]
    },
    {
      "cell_type": "markdown",
      "metadata": {
        "id": "erB0b_lQ7-6A"
      },
      "source": [
        "# Numpy"
      ]
    },
    {
      "cell_type": "markdown",
      "metadata": {
        "id": "PGAVDzpv7-6A"
      },
      "source": [
        "### numpy в картинках (реально лучший):\n",
        "\n",
        "https://jalammar.github.io/visual-numpy/"
      ]
    },
    {
      "cell_type": "code",
      "execution_count": 57,
      "metadata": {
        "id": "I2hMMh4J7-6A"
      },
      "outputs": [],
      "source": [
        "import numpy as np"
      ]
    },
    {
      "cell_type": "markdown",
      "metadata": {
        "id": "Zc2HN9ah7-6A"
      },
      "source": [
        "1. Задать нулевой вектор размером 10 (★☆☆)\n",
        "\n",
        "(hint: np.zeros)"
      ]
    },
    {
      "cell_type": "code",
      "execution_count": null,
      "metadata": {
        "id": "Mo3_ncPr7-6A",
        "colab": {
          "base_uri": "https://localhost:8080/"
        },
        "outputId": "c15caa5c-e51a-41c5-8481-1ccca9c33f7a"
      },
      "outputs": [
        {
          "output_type": "stream",
          "name": "stdout",
          "text": [
            "[0. 0. 0. 0. 0. 0. 0. 0. 0. 0.]\n"
          ]
        }
      ],
      "source": [
        "np.zeros(10)"
      ]
    },
    {
      "cell_type": "markdown",
      "metadata": {
        "id": "zo6g4t_O7-6A"
      },
      "source": [
        "2. Как найти размер занимаемой памяти любым массивом (★☆☆)\n",
        "\n",
        "(hint: size, itemsize)"
      ]
    },
    {
      "cell_type": "code",
      "execution_count": null,
      "metadata": {
        "id": "H4u2UL4R7-6A",
        "colab": {
          "base_uri": "https://localhost:8080/"
        },
        "outputId": "6405f1bc-b027-402e-d685-df55ec0d6a4e"
      },
      "outputs": [
        {
          "output_type": "execute_result",
          "data": {
            "text/plain": [
              "3"
            ]
          },
          "metadata": {},
          "execution_count": 156
        }
      ],
      "source": [
        "np.array([1,2,3]).size"
      ]
    },
    {
      "cell_type": "markdown",
      "metadata": {
        "id": "RgMlxewK7-6A"
      },
      "source": [
        "3. Создать вектор из 10 нулей, кроме пятого элемента, который равен 1 (★☆☆)"
      ]
    },
    {
      "cell_type": "code",
      "execution_count": null,
      "metadata": {
        "id": "jiQkXc4O7-6A",
        "colab": {
          "base_uri": "https://localhost:8080/"
        },
        "outputId": "97d63b6d-4e66-4b97-e5da-a024eb428d5a"
      },
      "outputs": [
        {
          "output_type": "stream",
          "name": "stdout",
          "text": [
            "[0. 0. 0. 0. 1. 0. 0. 0. 0. 0.]\n"
          ]
        }
      ],
      "source": [
        "a = np.zeros(10)\n",
        "a[4] = 1\n",
        "print(a)"
      ]
    },
    {
      "cell_type": "markdown",
      "metadata": {
        "id": "kPEle2qT7-6B"
      },
      "source": [
        "4. Создать вектор от 10 до 50 включительно (★☆☆)\n",
        "\n",
        "(hint:np.arange)"
      ]
    },
    {
      "cell_type": "code",
      "execution_count": null,
      "metadata": {
        "id": "fJnAkqW-7-6B",
        "colab": {
          "base_uri": "https://localhost:8080/"
        },
        "outputId": "975972aa-a2a3-4903-cb31-d5c2f0c21c4e"
      },
      "outputs": [
        {
          "output_type": "stream",
          "name": "stdout",
          "text": [
            "[10 11 12 13 14 15 16 17 18 19 20 21 22 23 24 25 26 27 28 29 30 31 32 33\n",
            " 34 35 36 37 38 39 40 41 42 43 44 45 46 47 48 49 50]\n"
          ]
        }
      ],
      "source": [
        "a = np.arange(10,51)\n",
        "print(a)"
      ]
    },
    {
      "cell_type": "markdown",
      "metadata": {
        "id": "9P1_c7se7-6B"
      },
      "source": [
        "5. Перевернуть вектор (первый элемент будет последним) (★☆☆)"
      ]
    },
    {
      "cell_type": "code",
      "execution_count": null,
      "metadata": {
        "id": "nZ8mw8B67-6B",
        "colab": {
          "base_uri": "https://localhost:8080/"
        },
        "outputId": "379a0c7d-42e7-4398-fea1-5466968b2fec"
      },
      "outputs": [
        {
          "output_type": "execute_result",
          "data": {
            "text/plain": [
              "array([50, 49, 48, 47, 46, 45, 44, 43, 42, 41, 40, 39, 38, 37, 36, 35, 34,\n",
              "       33, 32, 31, 30, 29, 28, 27, 26, 25, 24, 23, 22, 21, 20, 19, 18, 17,\n",
              "       16, 15, 14, 13, 12, 11, 10])"
            ]
          },
          "metadata": {},
          "execution_count": 168
        }
      ],
      "source": [
        "a[::-1]"
      ]
    },
    {
      "cell_type": "markdown",
      "metadata": {
        "id": "431qEvN87-6B"
      },
      "source": [
        "6. Создать матрицу 3х3 с элементами от 0 до 8 (★☆☆)\n",
        "\n",
        "(hint: reshape)"
      ]
    },
    {
      "cell_type": "code",
      "execution_count": null,
      "metadata": {
        "id": "b4A8JfF37-6B",
        "colab": {
          "base_uri": "https://localhost:8080/"
        },
        "outputId": "7d850105-4473-4ac1-917c-f2c2139ac84f"
      },
      "outputs": [
        {
          "output_type": "stream",
          "name": "stdout",
          "text": [
            "[[0 1 2]\n",
            " [3 4 5]\n",
            " [6 7 8]]\n"
          ]
        }
      ],
      "source": [
        "a = np.arange(9).reshape(3,3)\n",
        "print(a)"
      ]
    },
    {
      "cell_type": "markdown",
      "metadata": {
        "id": "PMb49oNH7-6B"
      },
      "source": [
        "7. Найти индексы не нулевых эемелентов в numpy array [1,2,0,0,4,0] (★☆☆)\n",
        "\n",
        "(hint: np.nonzero)"
      ]
    },
    {
      "cell_type": "code",
      "execution_count": null,
      "metadata": {
        "id": "K8dAIKrt7-6B",
        "colab": {
          "base_uri": "https://localhost:8080/"
        },
        "outputId": "58041254-a099-4bb9-9ddc-6445436f71e2"
      },
      "outputs": [
        {
          "output_type": "stream",
          "name": "stdout",
          "text": [
            "(array([0, 1, 4]),)\n"
          ]
        }
      ],
      "source": [
        "a = np.nonzero([1,2,0,0,4,0])\n",
        "print(a)"
      ]
    },
    {
      "cell_type": "markdown",
      "metadata": {
        "id": "jmOnmP6b7-6B"
      },
      "source": [
        "8. Создать матрицу 10x10 array с рандомными числами и найти минимум, максимум и среднее (★☆☆)"
      ]
    },
    {
      "cell_type": "code",
      "execution_count": null,
      "metadata": {
        "id": "PvbVEYkt7-6B",
        "colab": {
          "base_uri": "https://localhost:8080/"
        },
        "outputId": "af898b6b-d62e-4c1d-fbc5-ff559f6754ae"
      },
      "outputs": [
        {
          "output_type": "stream",
          "name": "stdout",
          "text": [
            "0.005339188445926513 0.9963869930662308 0.4971286191605418\n"
          ]
        }
      ],
      "source": [
        "a = np.random.random((10,10))\n",
        "min, max, avg = a.min(), a.max(), a.sum() / a. size\n",
        "print(min, max, avg)"
      ]
    },
    {
      "cell_type": "markdown",
      "metadata": {
        "id": "7Akk1awh7-6C"
      },
      "source": [
        "9. Создать матрицу 8x8 и заполнить 0 и 1 в стиле шахматной доски (★☆☆)\n",
        "\n",
        "(hint: array[::n])"
      ]
    },
    {
      "cell_type": "code",
      "execution_count": null,
      "metadata": {
        "id": "825TezXL7-6C",
        "colab": {
          "base_uri": "https://localhost:8080/"
        },
        "outputId": "e66362ea-6c8f-43cc-b553-b28d6d0f65d1"
      },
      "outputs": [
        {
          "output_type": "stream",
          "name": "stdout",
          "text": [
            "[[0 1 0 1 0 1 0 1]\n",
            " [1 0 1 0 1 0 1 0]\n",
            " [0 1 0 1 0 1 0 1]\n",
            " [1 0 1 0 1 0 1 0]\n",
            " [0 1 0 1 0 1 0 1]\n",
            " [1 0 1 0 1 0 1 0]\n",
            " [0 1 0 1 0 1 0 1]\n",
            " [1 0 1 0 1 0 1 0]]\n"
          ]
        }
      ],
      "source": [
        "a = np.tile(np.array([[0,1],[1,0]]), (4,4))\n",
        "print(a)"
      ]
    },
    {
      "cell_type": "markdown",
      "metadata": {
        "id": "tPItbLuk7-6C"
      },
      "source": [
        "10. Нормализовать рандомную матрицу 5x5 (★☆☆)\n",
        "\n",
        "(hint: (x - mean) / std)"
      ]
    },
    {
      "cell_type": "code",
      "execution_count": null,
      "metadata": {
        "id": "NxpOioEr7-6C",
        "colab": {
          "base_uri": "https://localhost:8080/"
        },
        "outputId": "ee248908-feba-4ab6-a8fe-6a80bd5247fc"
      },
      "outputs": [
        {
          "output_type": "execute_result",
          "data": {
            "text/plain": [
              "array([[0.34847726, 0.1554337 , 0.0991095 , 0.30781565, 0.08916389],\n",
              "       [0.29547325, 0.22759486, 0.31781994, 0.06324158, 0.09587037],\n",
              "       [0.18890077, 0.29476431, 0.36921625, 0.13587255, 0.01124612],\n",
              "       [0.32702448, 0.14058364, 0.23992353, 0.19802391, 0.09444444],\n",
              "       [0.37799984, 0.12617935, 0.43958414, 0.02877143, 0.02746524]])"
            ]
          },
          "metadata": {},
          "execution_count": 175
        }
      ],
      "source": [
        "a = np.random.random((5,5))\n",
        "a / (np.sum(a, axis=1)[:, np.newaxis])"
      ]
    },
    {
      "cell_type": "markdown",
      "metadata": {
        "id": "rpnPFQiD7-6C"
      },
      "source": [
        "11. Найти общие элементы между двумя массивами\n",
        "\n",
        "(hint: np.intersect1d)"
      ]
    },
    {
      "cell_type": "code",
      "execution_count": null,
      "metadata": {
        "id": "Om2KNfr57-6C",
        "colab": {
          "base_uri": "https://localhost:8080/"
        },
        "outputId": "edb1dbb4-1293-4609-e267-d0cd81837b9d"
      },
      "outputs": [
        {
          "output_type": "execute_result",
          "data": {
            "text/plain": [
              "array([2, 3, 6])"
            ]
          },
          "metadata": {},
          "execution_count": 176
        }
      ],
      "source": [
        "a1 = np.random.randint(0,10,10)\n",
        "a2 = np.random.randint(0,10,10)\n",
        "np.intersect1d(a1,a2)"
      ]
    },
    {
      "cell_type": "markdown",
      "metadata": {
        "id": "aqQ7cw7Z7-6C"
      },
      "source": [
        "12. Извлечь целую часть рандомного массива чисел различными способами (максимум 5) (★★☆)"
      ]
    },
    {
      "cell_type": "code",
      "execution_count": 58,
      "metadata": {
        "id": "km63zOAL7-6C",
        "colab": {
          "base_uri": "https://localhost:8080/"
        },
        "outputId": "17129656-1dd6-4eec-d8c2-7aba574b9949"
      },
      "outputs": [
        {
          "output_type": "execute_result",
          "data": {
            "text/plain": [
              "array([9, 3, 0, 5, 9])"
            ]
          },
          "metadata": {},
          "execution_count": 58
        }
      ],
      "source": [
        "a = np.random.randint(0,10,10)\n",
        "a[0:5]\n",
        "# я не понял что надо сделать"
      ]
    },
    {
      "cell_type": "markdown",
      "metadata": {
        "id": "f_rFnjH37-6C"
      },
      "source": [
        "13. Создать рандомный вектор размера 10 и отсортировать его (★★☆)"
      ]
    },
    {
      "cell_type": "code",
      "execution_count": null,
      "metadata": {
        "id": "QfFtNYNg7-6C",
        "colab": {
          "base_uri": "https://localhost:8080/"
        },
        "outputId": "50553e9c-8e94-41e8-8491-8f94f628b1a3"
      },
      "outputs": [
        {
          "output_type": "stream",
          "name": "stdout",
          "text": [
            "[0.08597771 0.13132446 0.33934351 0.47941373 0.48822208 0.49891765\n",
            " 0.50228824 0.54864439 0.57474621 0.7952995 ]\n"
          ]
        }
      ],
      "source": [
        "a = np.random.random(10)\n",
        "a.sort()\n",
        "print(a)"
      ]
    },
    {
      "cell_type": "markdown",
      "metadata": {
        "id": "bJzpgOl37-6D"
      },
      "source": [
        "14. Проверить одинаковы ли два рандомных массива А и B (★★☆)\n",
        "\n",
        "(hint: np.allclose, np.array_equal)"
      ]
    },
    {
      "cell_type": "code",
      "execution_count": null,
      "metadata": {
        "id": "6n303JJr7-6D",
        "colab": {
          "base_uri": "https://localhost:8080/"
        },
        "outputId": "bb54118c-5424-401d-a006-0e98189d5328"
      },
      "outputs": [
        {
          "output_type": "execute_result",
          "data": {
            "text/plain": [
              "False"
            ]
          },
          "metadata": {},
          "execution_count": 177
        }
      ],
      "source": [
        "a1 = np.random.random((5,5))\n",
        "a2 = np.random.random((5,5))\n",
        "np.array_equal(a1,a2)"
      ]
    },
    {
      "cell_type": "markdown",
      "metadata": {
        "id": "JoJglzhz7-6D"
      },
      "source": [
        "15. Создать рандомный ветор размером 10 и максимальный элемент заменить на -1 (★★☆)\n",
        "\n",
        "(hint: argmax)"
      ]
    },
    {
      "cell_type": "code",
      "execution_count": null,
      "metadata": {
        "id": "e5mGRtnL7-6D",
        "colab": {
          "base_uri": "https://localhost:8080/"
        },
        "outputId": "3339f029-5d77-4b37-d527-04b76488ba6e"
      },
      "outputs": [
        {
          "output_type": "stream",
          "name": "stdout",
          "text": [
            "[ 0.5139871   0.31251177 -1.          0.46909342  0.6917198   0.10371737\n",
            "  0.87040132  0.14654564  0.55341557  0.86105254]\n"
          ]
        }
      ],
      "source": [
        "a = np.random.random(10)\n",
        "a[a.argmax()] = -1\n",
        "print(a)"
      ]
    },
    {
      "cell_type": "markdown",
      "metadata": {
        "id": "mAGLVuFF7-6D"
      },
      "source": [
        "16. Найдите самый близкий элемент к данному рандомному числу в векторе? (★★☆)\n",
        "\n",
        "(hint: argmin)"
      ]
    },
    {
      "cell_type": "code",
      "execution_count": null,
      "metadata": {
        "id": "89qRlKiw7-6D",
        "colab": {
          "base_uri": "https://localhost:8080/"
        },
        "outputId": "9e0b5054-d50a-461e-e596-81a17e43f598"
      },
      "outputs": [
        {
          "output_type": "stream",
          "name": "stdout",
          "text": [
            "42\n"
          ]
        }
      ],
      "source": [
        "Z = np.arange(100)\n",
        "v = np.random.uniform(0,100)\n",
        "index =  (np.abs(Z-v)).argmin()\n",
        "print(Z[index])"
      ]
    },
    {
      "cell_type": "markdown",
      "metadata": {
        "id": "36WBkhF-7-6D"
      },
      "source": [
        "17. Посчитать среднее для каждой строки матрицы (★★☆)"
      ]
    },
    {
      "cell_type": "code",
      "execution_count": null,
      "metadata": {
        "id": "GnLZw8aJ7-6D",
        "colab": {
          "base_uri": "https://localhost:8080/"
        },
        "outputId": "fb518c6e-1846-48c1-bb31-3a4ce370d74e"
      },
      "outputs": [
        {
          "output_type": "execute_result",
          "data": {
            "text/plain": [
              "array([ 2.5,  8.5, 14.5])"
            ]
          },
          "metadata": {},
          "execution_count": 188
        }
      ],
      "source": [
        "a = np.arange(18).reshape(3, 6)\n",
        "np.mean(a, axis = 1)"
      ]
    },
    {
      "cell_type": "markdown",
      "metadata": {
        "id": "uh0PaELi7-6D"
      },
      "source": [
        "18. Посчитать среднее со скользящим окном над массивом (★★★)\n",
        "\n",
        "(hint: np.cumsum)"
      ]
    },
    {
      "cell_type": "code",
      "execution_count": null,
      "metadata": {
        "id": "G1FMXEzw7-6D",
        "colab": {
          "base_uri": "https://localhost:8080/"
        },
        "outputId": "540f94a9-42b2-4c35-d973-f75320dcc2b0"
      },
      "outputs": [
        {
          "output_type": "execute_result",
          "data": {
            "text/plain": [
              "array([0.38041743, 1.16339001, 1.39506149, 2.18597125, 3.02682394,\n",
              "       3.89682214, 4.05087691, 4.37811721, 4.61001237, 4.95154863])"
            ]
          },
          "metadata": {},
          "execution_count": 187
        }
      ],
      "source": [
        "a = np.random.random(10)\n",
        "np.cumsum(a)"
      ]
    },
    {
      "cell_type": "markdown",
      "metadata": {
        "id": "39MrQOOQ7-6D"
      },
      "source": [
        "<img src=\"gifs/bender.gif\" width=\"400\">"
      ]
    },
    {
      "cell_type": "markdown",
      "metadata": {
        "id": "hjyrzC-K7-6E"
      },
      "source": [
        "# Regular expressions\n",
        "\n",
        "* Cупер статья на все времена. Особенно понятно все про такие сложные штуки как lookaround. \n",
        "\n",
        "https://habr.com/ru/post/349860/\n",
        "\n",
        "\n",
        "* Задания на регулярки\n",
        "\n",
        "https://regexone.com/\n",
        "\n",
        "* На этом сайте удобно тестировать регулярку, которую мучаешь, можно написать несколько примеров и тестировать на них. Важно не забывать выбирать Python:\n",
        "\n",
        "https://regex101.com/"
      ]
    },
    {
      "cell_type": "markdown",
      "metadata": {
        "id": "Qyr-_5kN7-6E"
      },
      "source": [
        "1. Из строки в файле data/rejson.txt вытащить хэш. Пример:\n",
        "\n",
        "'master_guid': '<b>233880bb4c50d247f84edc9cac9e6e29</b>_2308194320'"
      ]
    },
    {
      "cell_type": "code",
      "source": [
        "regexfile = open(\"rejson.txt\", \"w+\")"
      ],
      "metadata": {
        "id": "TDJMx1UnfRBu"
      },
      "execution_count": 89,
      "outputs": []
    },
    {
      "cell_type": "code",
      "execution_count": 90,
      "metadata": {
        "id": "snI9_pDw7-6E",
        "colab": {
          "base_uri": "https://localhost:8080/"
        },
        "outputId": "f56af41e-6fa3-4bca-e9b0-79d1562ab49d"
      },
      "outputs": [
        {
          "output_type": "execute_result",
          "data": {
            "text/plain": [
              "58"
            ]
          },
          "metadata": {},
          "execution_count": 90
        }
      ],
      "source": [
        "regexfile.write(\"master_guid': '233880bb4c50d247f84edc9cac9e6e29_2308194320\")"
      ]
    },
    {
      "cell_type": "code",
      "source": [
        "regexfile = open(\"rejson.txt\")\n",
        "a = regexfile.read()\n",
        "print(a)"
      ],
      "metadata": {
        "colab": {
          "base_uri": "https://localhost:8080/"
        },
        "id": "Ov_CJV-cfkG2",
        "outputId": "92590a5a-d782-4bd9-f529-b5f601ad6027"
      },
      "execution_count": 92,
      "outputs": [
        {
          "output_type": "stream",
          "name": "stdout",
          "text": [
            "master_guid': '233880bb4c50d247f84edc9cac9e6e29_2308194320\n"
          ]
        }
      ]
    },
    {
      "cell_type": "code",
      "source": [
        "import re\n",
        "match = re.search(r'master_guid.*?(\\w+_)', a)\n",
        "print(match)\n",
        "# не получается убрать символ _"
      ],
      "metadata": {
        "colab": {
          "base_uri": "https://localhost:8080/"
        },
        "id": "kAQSN5DMf6It",
        "outputId": "cafd4e0d-57a5-4b70-9ada-7a1ded4d3f91"
      },
      "execution_count": 99,
      "outputs": [
        {
          "output_type": "stream",
          "name": "stdout",
          "text": [
            "<re.Match object; span=(0, 48), match=\"master_guid': '233880bb4c50d247f84edc9cac9e6e29_\">\n"
          ]
        }
      ]
    },
    {
      "cell_type": "markdown",
      "metadata": {
        "id": "LvMyVVti7-6E"
      },
      "source": [
        "# Pandas"
      ]
    },
    {
      "cell_type": "markdown",
      "metadata": {
        "id": "1phjMjs87-6E"
      },
      "source": [
        "* Pandas в картинках\n",
        "\n",
        "https://jalammar.github.io/gentle-visual-intro-to-data-analysis-python-pandas/\n",
        "\n",
        "* 10 minutes to pandas\n",
        "\n",
        "https://pandas.pydata.org/pandas-docs/stable/getting_started/10min.html\n",
        "\n",
        "* 🐼реально классный твиттер чувака с крутыми pandas tricks:\n",
        "    \n",
        "https://mobile.twitter.com/i/moments/1158828895547854849"
      ]
    },
    {
      "cell_type": "markdown",
      "metadata": {
        "id": "h4gw10e_7-6E"
      },
      "source": [
        "<img src=\"gifs/inprogress.gif\" width=\"400\">"
      ]
    }
  ],
  "metadata": {
    "kernelspec": {
      "display_name": "Python 3 (ipykernel)",
      "language": "python",
      "name": "python3"
    },
    "language_info": {
      "codemirror_mode": {
        "name": "ipython",
        "version": 3
      },
      "file_extension": ".py",
      "mimetype": "text/x-python",
      "name": "python",
      "nbconvert_exporter": "python",
      "pygments_lexer": "ipython3",
      "version": "3.9.12"
    },
    "colab": {
      "provenance": [],
      "collapsed_sections": [],
      "include_colab_link": true
    }
  },
  "nbformat": 4,
  "nbformat_minor": 0
}